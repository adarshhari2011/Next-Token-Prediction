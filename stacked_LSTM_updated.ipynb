{
  "cells": [
    {
      "cell_type": "code",
      "execution_count": 1,
      "metadata": {
        "id": "73rzLHTTRVLf"
      },
      "outputs": [],
      "source": [
        "from tensorflow.keras.preprocessing.text import Tokenizer"
      ]
    },
    {
      "cell_type": "code",
      "execution_count": 2,
      "metadata": {
        "id": "mWAsY09tRVLi"
      },
      "outputs": [],
      "source": [
        "tokenizer = Tokenizer()"
      ]
    },
    {
      "cell_type": "code",
      "execution_count": 3,
      "metadata": {},
      "outputs": [],
      "source": [
        "file = open(\"wiki_16.txt\", \"r\", encoding=\"utf-8\")\n",
        "data = file.read()"
      ]
    },
    {
      "cell_type": "code",
      "execution_count": 4,
      "metadata": {
        "colab": {
          "base_uri": "https://localhost:8080/"
        },
        "id": "YC4JomwgSMfN",
        "outputId": "3f63eda2-4e9e-464d-edb3-6b1b879548b0"
      },
      "outputs": [
        {
          "data": {
            "text/plain": [
              "str"
            ]
          },
          "execution_count": 4,
          "metadata": {},
          "output_type": "execute_result"
        }
      ],
      "source": [
        "type(data[:100])"
      ]
    },
    {
      "cell_type": "code",
      "execution_count": 5,
      "metadata": {
        "id": "1SR6HKhfT3-u"
      },
      "outputs": [],
      "source": [
        "data = data.split(\"\\n\")"
      ]
    },
    {
      "cell_type": "code",
      "execution_count": 6,
      "metadata": {
        "id": "SuvbPSfTRVLn"
      },
      "outputs": [],
      "source": [
        "tokenizer.fit_on_texts(data)"
      ]
    },
    {
      "cell_type": "code",
      "execution_count": 7,
      "metadata": {
        "id": "xzNXw5VORVLo"
      },
      "outputs": [],
      "source": [
        "tokenizer_json= tokenizer.to_json()"
      ]
    },
    {
      "cell_type": "code",
      "execution_count": 8,
      "metadata": {
        "id": "ZJvPJojoRVLp"
      },
      "outputs": [],
      "source": [
        "with open(\"tokenizer.json\",\"w\", encoding=\"utf-8\") as f:\n",
        "    f.write(tokenizer_json)"
      ]
    },
    {
      "cell_type": "code",
      "execution_count": 9,
      "metadata": {
        "id": "frM1wzzJRVLp"
      },
      "outputs": [],
      "source": [
        "input_sequences = []"
      ]
    },
    {
      "cell_type": "code",
      "execution_count": 10,
      "metadata": {
        "id": "rLscG1FKRVLq"
      },
      "outputs": [],
      "source": [
        "for line in data:\n",
        "    token_list = tokenizer.texts_to_sequences([line])[0]\n",
        "    for i in range (1, len(token_list)):\n",
        "        n_gram_sequence = token_list[:i+1]\n",
        "        input_sequences.append(n_gram_sequence)"
      ]
    },
    {
      "cell_type": "code",
      "execution_count": 11,
      "metadata": {
        "colab": {
          "base_uri": "https://localhost:8080/"
        },
        "id": "V6tKAfiERVLs",
        "outputId": "4148e077-3846-447f-8439-f5dd78ccf52a"
      },
      "outputs": [
        {
          "name": "stdout",
          "output_type": "stream",
          "text": [
            "448\n"
          ]
        }
      ],
      "source": [
        "max_lenghth = 0\n",
        "for i in range(len(input_sequences)):\n",
        "    if len(input_sequences[i]) > max_lenghth:\n",
        "        max_lenghth = len(input_sequences[i])\n",
        "print(max_lenghth)"
      ]
    },
    {
      "cell_type": "code",
      "execution_count": 12,
      "metadata": {
        "id": "PG5ClCk4RVLt"
      },
      "outputs": [],
      "source": [
        "from tensorflow.keras.preprocessing.sequence import pad_sequences\n",
        "input_sequences = pad_sequences(input_sequences,maxlen=max_lenghth, padding =  'pre')"
      ]
    },
    {
      "cell_type": "code",
      "execution_count": 13,
      "metadata": {
        "id": "i9aEGjRwRVLt"
      },
      "outputs": [],
      "source": [
        "x = input_sequences[:, :-1]\n",
        "y = input_sequences[:, -1]"
      ]
    },
    {
      "cell_type": "code",
      "execution_count": 14,
      "metadata": {
        "id": "mneNceZxRVLu"
      },
      "outputs": [
        {
          "data": {
            "text/plain": [
              "array([  2,  83, 270, ...,  51, 694, 806], dtype=int32)"
            ]
          },
          "execution_count": 14,
          "metadata": {},
          "output_type": "execute_result"
        }
      ],
      "source": [
        "x\n",
        "y"
      ]
    },
    {
      "cell_type": "code",
      "execution_count": 15,
      "metadata": {
        "id": "YaWqBgQURVLv"
      },
      "outputs": [],
      "source": [
        "from tensorflow.keras.models import Sequential\n",
        "from tensorflow.keras.layers import Embedding, LSTM, Dense"
      ]
    },
    {
      "cell_type": "code",
      "execution_count": 16,
      "metadata": {
        "id": "rb56scYdRVLv"
      },
      "outputs": [],
      "source": [
        "# from ast import mod\n",
        "# model = Sequential()\n",
        "# model.add(Embedding(input_dim=len(tokenizer.word_index)+1, output_dim=10))\n",
        "# model.add(LSTM(100, return_sequences = True))\n",
        "# model.add(LSTM(100))\n",
        "# model.add(Dense(len(tokenizer.word_index)+1, activation = 'softmax'))\n",
        "\n",
        "\n",
        "\n",
        "from tensorflow.keras.models import Sequential\n",
        "from tensorflow.keras.layers import Embedding, LSTM, Dense, Dropout, Bidirectional\n",
        "\n",
        "model = Sequential()\n",
        "model.add(Embedding(input_dim=len(tokenizer.word_index)+1, output_dim=50))  # Increased embedding size\n",
        "model.add(Bidirectional(LSTM(128, return_sequences=True)))  # Bidirectional LSTM\n",
        "model.add(Dropout(0.2))  # Dropout for regularization\n",
        "model.add(LSTM(128))  # Second LSTM layer\n",
        "model.add(Dropout(0.2))  # Another Dropout layer\n",
        "model.add(Dense(len(tokenizer.word_index)+1, activation='softmax'))  # Output layer\n",
        "\n",
        "model.compile(loss='sparse_categorical_crossentropy', optimizer='adam', metrics=['accuracy'])\n"
      ]
    },
    {
      "cell_type": "code",
      "execution_count": 17,
      "metadata": {
        "id": "jS57weZQRVLw"
      },
      "outputs": [],
      "source": [
        "model.compile(loss='sparse_categorical_crossentropy', optimizer='adam', metrics=['accuracy'])"
      ]
    },
    {
      "cell_type": "code",
      "execution_count": null,
      "metadata": {
        "id": "M0xy0OugRVLw"
      },
      "outputs": [
        {
          "name": "stdout",
          "output_type": "stream",
          "text": [
            "Epoch 1/10\n",
            "\u001b[1m5395/5395\u001b[0m \u001b[32m━━━━━━━━━━━━━━━━━━━━\u001b[0m\u001b[37m\u001b[0m \u001b[1m2785s\u001b[0m 516ms/step - accuracy: 0.0783 - loss: 7.4159\n",
            "Epoch 2/10\n",
            "\u001b[1m1908/5395\u001b[0m \u001b[32m━━━━━━━\u001b[0m\u001b[37m━━━━━━━━━━━━━\u001b[0m \u001b[1m30:56\u001b[0m 532ms/step - accuracy: 0.1028 - loss: 6.7625"
          ]
        }
      ],
      "source": [
        "model.fit(x,y, epochs = 10)"
      ]
    },
    {
      "cell_type": "code",
      "execution_count": null,
      "metadata": {
        "id": "s3lKKyzcRVLx"
      },
      "outputs": [],
      "source": [
        "model.save(\"CCv1.h5\")"
      ]
    },
    {
      "cell_type": "code",
      "execution_count": null,
      "metadata": {
        "id": "boBG2aWnRVLx"
      },
      "outputs": [],
      "source": [
        "import numpy as np\n",
        "text = \"FOURTH\"\n",
        "tokenizer.word_index\n",
        "for i in range(5):\n",
        "  token_text = tokenizer.texts_to_sequences([text])[0]\n",
        "  token_text = pad_sequences([token_text], maxlen = max_lenghth, padding = 'pre')\n",
        "  prob = model.predict(token_text)\n",
        "  pos = np.argmax(prob)\n",
        "  for word, index in tokenizer.word_index.items():\n",
        "    if index == pos:\n",
        "      text = text + \" \" + word\n",
        "      print(text)"
      ]
    },
    {
      "cell_type": "code",
      "execution_count": null,
      "metadata": {
        "id": "gvhb1YCJRVLy"
      },
      "outputs": [],
      "source": [
        "tokenizer_json=tokenizer.to_json()\n",
        "import json"
      ]
    },
    {
      "cell_type": "code",
      "execution_count": null,
      "metadata": {
        "id": "1kyU3oy1RVLy"
      },
      "outputs": [],
      "source": [
        "with open(\"tokenizer.json\",\"w\") as jf:\n",
        "    json.dump(tokenizer_json,jf)"
      ]
    }
  ],
  "metadata": {
    "accelerator": "GPU",
    "colab": {
      "gpuType": "T4",
      "provenance": []
    },
    "kernelspec": {
      "display_name": "Python 3",
      "name": "python3"
    },
    "language_info": {
      "codemirror_mode": {
        "name": "ipython",
        "version": 3
      },
      "file_extension": ".py",
      "mimetype": "text/x-python",
      "name": "python",
      "nbconvert_exporter": "python",
      "pygments_lexer": "ipython3",
      "version": "3.12.9"
    }
  },
  "nbformat": 4,
  "nbformat_minor": 0
}
